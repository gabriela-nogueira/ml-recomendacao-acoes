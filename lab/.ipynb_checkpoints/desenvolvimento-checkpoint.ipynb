{
 "cells": [
  {
   "cell_type": "code",
   "execution_count": null,
   "id": "f46f4044-b0bc-46c9-8941-685a6f022f16",
   "metadata": {},
   "outputs": [],
   "source": [
    "lista_empresas = ['PETRA4.SA', 'VALE3.SA', 'BBAS3.SA', 'BBDC4.SA', 'ITUB4.SA','ITSA4.SA']"
   ]
  },
  {
   "cell_type": "markdown",
   "id": "033e2b53-3fed-478c-a992-6128d002d039",
   "metadata": {},
   "source": [
    "# Script Dados Históricos"
   ]
  },
  {
   "cell_type": "code",
   "execution_count": 3,
   "id": "d74d053b-40a5-428b-aab9-1be5cdab9cce",
   "metadata": {},
   "outputs": [],
   "source": [
    "import requests as re\n",
    "import pandas as pd\n",
    "from io import StringIO"
   ]
  },
  {
   "cell_type": "code",
   "execution_count": 42,
   "id": "9c5c4125-c039-4d5e-afdc-fcee82c70ed0",
   "metadata": {},
   "outputs": [],
   "source": [
    "url = 'https://query1.finance.yahoo.com/v7/finance/download/PETR4.SA?period1=1566691200&period2=1724544000&interval=1d&events=history&includeAdjustedClose=true'"
   ]
  },
  {
   "cell_type": "code",
   "execution_count": 43,
   "id": "cd5787d3-ac49-46d1-ad80-c4105f1e28e6",
   "metadata": {},
   "outputs": [],
   "source": [
    "headers = {\n",
    "    'User-Agent': 'Mozilla/5.0 (Windows NT 10.0; Win64; x64) AppleWebKit/537.36 (KHTML, like Gecko) Chrome/58.0.3029.110 Safari/537.36'\n",
    "}"
   ]
  },
  {
   "cell_type": "code",
   "execution_count": 44,
   "id": "e044335a-ca4f-4907-a4fb-97522cf2fc23",
   "metadata": {},
   "outputs": [],
   "source": [
    "response = re.get(url, headers=headers)"
   ]
  },
  {
   "cell_type": "code",
   "execution_count": 45,
   "id": "5493a585-544f-43c8-aadd-6680af3c18b1",
   "metadata": {},
   "outputs": [
    {
     "data": {
      "text/plain": [
       "200"
      ]
     },
     "execution_count": 45,
     "metadata": {},
     "output_type": "execute_result"
    }
   ],
   "source": [
    "response.status_code"
   ]
  },
  {
   "cell_type": "code",
   "execution_count": 46,
   "id": "4f3f4582-28c8-40bc-8335-488551fbdb0f",
   "metadata": {},
   "outputs": [],
   "source": [
    "data = StringIO(response.text)"
   ]
  },
  {
   "cell_type": "code",
   "execution_count": 47,
   "id": "b86b75fe-3090-4107-a362-b12f9d0f7521",
   "metadata": {},
   "outputs": [],
   "source": [
    "df = pd.read_csv(data)"
   ]
  },
  {
   "cell_type": "code",
   "execution_count": 48,
   "id": "b0b1912e-b450-4b1e-8238-f3db855398ac",
   "metadata": {},
   "outputs": [
    {
     "data": {
      "text/html": [
       "<div>\n",
       "<style scoped>\n",
       "    .dataframe tbody tr th:only-of-type {\n",
       "        vertical-align: middle;\n",
       "    }\n",
       "\n",
       "    .dataframe tbody tr th {\n",
       "        vertical-align: top;\n",
       "    }\n",
       "\n",
       "    .dataframe thead th {\n",
       "        text-align: right;\n",
       "    }\n",
       "</style>\n",
       "<table border=\"1\" class=\"dataframe\">\n",
       "  <thead>\n",
       "    <tr style=\"text-align: right;\">\n",
       "      <th></th>\n",
       "      <th>Date</th>\n",
       "      <th>Open</th>\n",
       "      <th>High</th>\n",
       "      <th>Low</th>\n",
       "      <th>Close</th>\n",
       "      <th>Adj Close</th>\n",
       "      <th>Volume</th>\n",
       "    </tr>\n",
       "  </thead>\n",
       "  <tbody>\n",
       "    <tr>\n",
       "      <th>0</th>\n",
       "      <td>2019-08-26</td>\n",
       "      <td>24.580000</td>\n",
       "      <td>24.680000</td>\n",
       "      <td>23.770000</td>\n",
       "      <td>23.959999</td>\n",
       "      <td>8.122455</td>\n",
       "      <td>39688800</td>\n",
       "    </tr>\n",
       "    <tr>\n",
       "      <th>1</th>\n",
       "      <td>2019-08-27</td>\n",
       "      <td>24.170000</td>\n",
       "      <td>24.820000</td>\n",
       "      <td>23.809999</td>\n",
       "      <td>24.340000</td>\n",
       "      <td>8.251275</td>\n",
       "      <td>70475200</td>\n",
       "    </tr>\n",
       "    <tr>\n",
       "      <th>2</th>\n",
       "      <td>2019-08-28</td>\n",
       "      <td>24.200001</td>\n",
       "      <td>24.700001</td>\n",
       "      <td>24.120001</td>\n",
       "      <td>24.590000</td>\n",
       "      <td>8.336027</td>\n",
       "      <td>41981500</td>\n",
       "    </tr>\n",
       "    <tr>\n",
       "      <th>3</th>\n",
       "      <td>2019-08-29</td>\n",
       "      <td>24.900000</td>\n",
       "      <td>25.500000</td>\n",
       "      <td>24.680000</td>\n",
       "      <td>25.500000</td>\n",
       "      <td>8.644517</td>\n",
       "      <td>61008800</td>\n",
       "    </tr>\n",
       "    <tr>\n",
       "      <th>4</th>\n",
       "      <td>2019-08-30</td>\n",
       "      <td>25.530001</td>\n",
       "      <td>25.690001</td>\n",
       "      <td>25.170000</td>\n",
       "      <td>25.500000</td>\n",
       "      <td>8.644517</td>\n",
       "      <td>54958200</td>\n",
       "    </tr>\n",
       "  </tbody>\n",
       "</table>\n",
       "</div>"
      ],
      "text/plain": [
       "         Date       Open       High        Low      Close  Adj Close    Volume\n",
       "0  2019-08-26  24.580000  24.680000  23.770000  23.959999   8.122455  39688800\n",
       "1  2019-08-27  24.170000  24.820000  23.809999  24.340000   8.251275  70475200\n",
       "2  2019-08-28  24.200001  24.700001  24.120001  24.590000   8.336027  41981500\n",
       "3  2019-08-29  24.900000  25.500000  24.680000  25.500000   8.644517  61008800\n",
       "4  2019-08-30  25.530001  25.690001  25.170000  25.500000   8.644517  54958200"
      ]
     },
     "execution_count": 48,
     "metadata": {},
     "output_type": "execute_result"
    }
   ],
   "source": [
    "df.head()"
   ]
  },
  {
   "cell_type": "code",
   "execution_count": 49,
   "id": "293e20b1-a2d4-42c2-8db6-a1217f5f082e",
   "metadata": {},
   "outputs": [
    {
     "data": {
      "text/plain": [
       "(1244, 7)"
      ]
     },
     "execution_count": 49,
     "metadata": {},
     "output_type": "execute_result"
    }
   ],
   "source": [
    "df.shape"
   ]
  },
  {
   "cell_type": "code",
   "execution_count": 50,
   "id": "5f0d3746-7386-4b02-9a0e-230a6b47534d",
   "metadata": {},
   "outputs": [],
   "source": [
    "df = df.rename(columns={\n",
    "    \"Open\": \"preco_abertura\",\n",
    "    \"High\": \"preco_maximo\",\n",
    "    \"Low\": \"preco_minimo\",\n",
    "    \"Close\": \"preco_fechamento\",\n",
    "    \"Adj Close\": \"preco_fechamento_ajustado\",\n",
    "    \"Volume\": \"volume\",\n",
    "    \"Date\": \"data_referencia\"\n",
    "})"
   ]
  },
  {
   "cell_type": "code",
   "execution_count": 51,
   "id": "f4836032-4bbd-4c46-80fb-f05435e07208",
   "metadata": {},
   "outputs": [
    {
     "data": {
      "text/html": [
       "<div>\n",
       "<style scoped>\n",
       "    .dataframe tbody tr th:only-of-type {\n",
       "        vertical-align: middle;\n",
       "    }\n",
       "\n",
       "    .dataframe tbody tr th {\n",
       "        vertical-align: top;\n",
       "    }\n",
       "\n",
       "    .dataframe thead th {\n",
       "        text-align: right;\n",
       "    }\n",
       "</style>\n",
       "<table border=\"1\" class=\"dataframe\">\n",
       "  <thead>\n",
       "    <tr style=\"text-align: right;\">\n",
       "      <th></th>\n",
       "      <th>data_referencia</th>\n",
       "      <th>preco_abertura</th>\n",
       "      <th>preco_maximo</th>\n",
       "      <th>preco_minimo</th>\n",
       "      <th>preco_fechamento</th>\n",
       "      <th>preco_fechamento_ajustado</th>\n",
       "      <th>volume</th>\n",
       "    </tr>\n",
       "  </thead>\n",
       "  <tbody>\n",
       "    <tr>\n",
       "      <th>0</th>\n",
       "      <td>2019-08-26</td>\n",
       "      <td>24.580000</td>\n",
       "      <td>24.680000</td>\n",
       "      <td>23.770000</td>\n",
       "      <td>23.959999</td>\n",
       "      <td>8.122455</td>\n",
       "      <td>39688800</td>\n",
       "    </tr>\n",
       "    <tr>\n",
       "      <th>1</th>\n",
       "      <td>2019-08-27</td>\n",
       "      <td>24.170000</td>\n",
       "      <td>24.820000</td>\n",
       "      <td>23.809999</td>\n",
       "      <td>24.340000</td>\n",
       "      <td>8.251275</td>\n",
       "      <td>70475200</td>\n",
       "    </tr>\n",
       "    <tr>\n",
       "      <th>2</th>\n",
       "      <td>2019-08-28</td>\n",
       "      <td>24.200001</td>\n",
       "      <td>24.700001</td>\n",
       "      <td>24.120001</td>\n",
       "      <td>24.590000</td>\n",
       "      <td>8.336027</td>\n",
       "      <td>41981500</td>\n",
       "    </tr>\n",
       "    <tr>\n",
       "      <th>3</th>\n",
       "      <td>2019-08-29</td>\n",
       "      <td>24.900000</td>\n",
       "      <td>25.500000</td>\n",
       "      <td>24.680000</td>\n",
       "      <td>25.500000</td>\n",
       "      <td>8.644517</td>\n",
       "      <td>61008800</td>\n",
       "    </tr>\n",
       "    <tr>\n",
       "      <th>4</th>\n",
       "      <td>2019-08-30</td>\n",
       "      <td>25.530001</td>\n",
       "      <td>25.690001</td>\n",
       "      <td>25.170000</td>\n",
       "      <td>25.500000</td>\n",
       "      <td>8.644517</td>\n",
       "      <td>54958200</td>\n",
       "    </tr>\n",
       "  </tbody>\n",
       "</table>\n",
       "</div>"
      ],
      "text/plain": [
       "  data_referencia  preco_abertura  preco_maximo  preco_minimo  \\\n",
       "0      2019-08-26       24.580000     24.680000     23.770000   \n",
       "1      2019-08-27       24.170000     24.820000     23.809999   \n",
       "2      2019-08-28       24.200001     24.700001     24.120001   \n",
       "3      2019-08-29       24.900000     25.500000     24.680000   \n",
       "4      2019-08-30       25.530001     25.690001     25.170000   \n",
       "\n",
       "   preco_fechamento  preco_fechamento_ajustado    volume  \n",
       "0         23.959999                   8.122455  39688800  \n",
       "1         24.340000                   8.251275  70475200  \n",
       "2         24.590000                   8.336027  41981500  \n",
       "3         25.500000                   8.644517  61008800  \n",
       "4         25.500000                   8.644517  54958200  "
      ]
     },
     "execution_count": 51,
     "metadata": {},
     "output_type": "execute_result"
    }
   ],
   "source": [
    "df.head()"
   ]
  },
  {
   "cell_type": "code",
   "execution_count": 52,
   "id": "a095392a-c4fb-43c6-b969-70bce4a8986e",
   "metadata": {},
   "outputs": [],
   "source": [
    "df['acao'] = 'PETR4'"
   ]
  },
  {
   "cell_type": "code",
   "execution_count": 53,
   "id": "0e7611d9-f13e-4fd3-8d63-0787dd072477",
   "metadata": {},
   "outputs": [
    {
     "data": {
      "text/html": [
       "<div>\n",
       "<style scoped>\n",
       "    .dataframe tbody tr th:only-of-type {\n",
       "        vertical-align: middle;\n",
       "    }\n",
       "\n",
       "    .dataframe tbody tr th {\n",
       "        vertical-align: top;\n",
       "    }\n",
       "\n",
       "    .dataframe thead th {\n",
       "        text-align: right;\n",
       "    }\n",
       "</style>\n",
       "<table border=\"1\" class=\"dataframe\">\n",
       "  <thead>\n",
       "    <tr style=\"text-align: right;\">\n",
       "      <th></th>\n",
       "      <th>data_referencia</th>\n",
       "      <th>preco_abertura</th>\n",
       "      <th>preco_maximo</th>\n",
       "      <th>preco_minimo</th>\n",
       "      <th>preco_fechamento</th>\n",
       "      <th>preco_fechamento_ajustado</th>\n",
       "      <th>volume</th>\n",
       "      <th>acao</th>\n",
       "    </tr>\n",
       "  </thead>\n",
       "  <tbody>\n",
       "    <tr>\n",
       "      <th>0</th>\n",
       "      <td>2019-08-26</td>\n",
       "      <td>24.580000</td>\n",
       "      <td>24.680000</td>\n",
       "      <td>23.770000</td>\n",
       "      <td>23.959999</td>\n",
       "      <td>8.122455</td>\n",
       "      <td>39688800</td>\n",
       "      <td>PETR4</td>\n",
       "    </tr>\n",
       "    <tr>\n",
       "      <th>1</th>\n",
       "      <td>2019-08-27</td>\n",
       "      <td>24.170000</td>\n",
       "      <td>24.820000</td>\n",
       "      <td>23.809999</td>\n",
       "      <td>24.340000</td>\n",
       "      <td>8.251275</td>\n",
       "      <td>70475200</td>\n",
       "      <td>PETR4</td>\n",
       "    </tr>\n",
       "    <tr>\n",
       "      <th>2</th>\n",
       "      <td>2019-08-28</td>\n",
       "      <td>24.200001</td>\n",
       "      <td>24.700001</td>\n",
       "      <td>24.120001</td>\n",
       "      <td>24.590000</td>\n",
       "      <td>8.336027</td>\n",
       "      <td>41981500</td>\n",
       "      <td>PETR4</td>\n",
       "    </tr>\n",
       "    <tr>\n",
       "      <th>3</th>\n",
       "      <td>2019-08-29</td>\n",
       "      <td>24.900000</td>\n",
       "      <td>25.500000</td>\n",
       "      <td>24.680000</td>\n",
       "      <td>25.500000</td>\n",
       "      <td>8.644517</td>\n",
       "      <td>61008800</td>\n",
       "      <td>PETR4</td>\n",
       "    </tr>\n",
       "    <tr>\n",
       "      <th>4</th>\n",
       "      <td>2019-08-30</td>\n",
       "      <td>25.530001</td>\n",
       "      <td>25.690001</td>\n",
       "      <td>25.170000</td>\n",
       "      <td>25.500000</td>\n",
       "      <td>8.644517</td>\n",
       "      <td>54958200</td>\n",
       "      <td>PETR4</td>\n",
       "    </tr>\n",
       "  </tbody>\n",
       "</table>\n",
       "</div>"
      ],
      "text/plain": [
       "  data_referencia  preco_abertura  preco_maximo  preco_minimo  \\\n",
       "0      2019-08-26       24.580000     24.680000     23.770000   \n",
       "1      2019-08-27       24.170000     24.820000     23.809999   \n",
       "2      2019-08-28       24.200001     24.700001     24.120001   \n",
       "3      2019-08-29       24.900000     25.500000     24.680000   \n",
       "4      2019-08-30       25.530001     25.690001     25.170000   \n",
       "\n",
       "   preco_fechamento  preco_fechamento_ajustado    volume   acao  \n",
       "0         23.959999                   8.122455  39688800  PETR4  \n",
       "1         24.340000                   8.251275  70475200  PETR4  \n",
       "2         24.590000                   8.336027  41981500  PETR4  \n",
       "3         25.500000                   8.644517  61008800  PETR4  \n",
       "4         25.500000                   8.644517  54958200  PETR4  "
      ]
     },
     "execution_count": 53,
     "metadata": {},
     "output_type": "execute_result"
    }
   ],
   "source": [
    "df.head()"
   ]
  },
  {
   "cell_type": "code",
   "execution_count": 54,
   "id": "7473579e-1d77-4fe4-b7c9-c87d685d329d",
   "metadata": {},
   "outputs": [],
   "source": [
    "df = df[['acao', 'preco_abertura', 'preco_maximo', 'preco_minimo', 'preco_fechamento', 'volume']]"
   ]
  },
  {
   "cell_type": "code",
   "execution_count": 55,
   "id": "f01bbe75-f670-4d2e-886e-238938516944",
   "metadata": {},
   "outputs": [
    {
     "data": {
      "text/html": [
       "<div>\n",
       "<style scoped>\n",
       "    .dataframe tbody tr th:only-of-type {\n",
       "        vertical-align: middle;\n",
       "    }\n",
       "\n",
       "    .dataframe tbody tr th {\n",
       "        vertical-align: top;\n",
       "    }\n",
       "\n",
       "    .dataframe thead th {\n",
       "        text-align: right;\n",
       "    }\n",
       "</style>\n",
       "<table border=\"1\" class=\"dataframe\">\n",
       "  <thead>\n",
       "    <tr style=\"text-align: right;\">\n",
       "      <th></th>\n",
       "      <th>acao</th>\n",
       "      <th>preco_abertura</th>\n",
       "      <th>preco_maximo</th>\n",
       "      <th>preco_minimo</th>\n",
       "      <th>preco_fechamento</th>\n",
       "      <th>volume</th>\n",
       "    </tr>\n",
       "  </thead>\n",
       "  <tbody>\n",
       "    <tr>\n",
       "      <th>0</th>\n",
       "      <td>PETR4</td>\n",
       "      <td>24.580000</td>\n",
       "      <td>24.680000</td>\n",
       "      <td>23.770000</td>\n",
       "      <td>23.959999</td>\n",
       "      <td>39688800</td>\n",
       "    </tr>\n",
       "    <tr>\n",
       "      <th>1</th>\n",
       "      <td>PETR4</td>\n",
       "      <td>24.170000</td>\n",
       "      <td>24.820000</td>\n",
       "      <td>23.809999</td>\n",
       "      <td>24.340000</td>\n",
       "      <td>70475200</td>\n",
       "    </tr>\n",
       "    <tr>\n",
       "      <th>2</th>\n",
       "      <td>PETR4</td>\n",
       "      <td>24.200001</td>\n",
       "      <td>24.700001</td>\n",
       "      <td>24.120001</td>\n",
       "      <td>24.590000</td>\n",
       "      <td>41981500</td>\n",
       "    </tr>\n",
       "    <tr>\n",
       "      <th>3</th>\n",
       "      <td>PETR4</td>\n",
       "      <td>24.900000</td>\n",
       "      <td>25.500000</td>\n",
       "      <td>24.680000</td>\n",
       "      <td>25.500000</td>\n",
       "      <td>61008800</td>\n",
       "    </tr>\n",
       "    <tr>\n",
       "      <th>4</th>\n",
       "      <td>PETR4</td>\n",
       "      <td>25.530001</td>\n",
       "      <td>25.690001</td>\n",
       "      <td>25.170000</td>\n",
       "      <td>25.500000</td>\n",
       "      <td>54958200</td>\n",
       "    </tr>\n",
       "  </tbody>\n",
       "</table>\n",
       "</div>"
      ],
      "text/plain": [
       "    acao  preco_abertura  preco_maximo  preco_minimo  preco_fechamento  \\\n",
       "0  PETR4       24.580000     24.680000     23.770000         23.959999   \n",
       "1  PETR4       24.170000     24.820000     23.809999         24.340000   \n",
       "2  PETR4       24.200001     24.700001     24.120001         24.590000   \n",
       "3  PETR4       24.900000     25.500000     24.680000         25.500000   \n",
       "4  PETR4       25.530001     25.690001     25.170000         25.500000   \n",
       "\n",
       "     volume  \n",
       "0  39688800  \n",
       "1  70475200  \n",
       "2  41981500  \n",
       "3  61008800  \n",
       "4  54958200  "
      ]
     },
     "execution_count": 55,
     "metadata": {},
     "output_type": "execute_result"
    }
   ],
   "source": [
    "df.head()"
   ]
  },
  {
   "cell_type": "code",
   "execution_count": null,
   "id": "00460594-ebca-44f6-bc54-1b002dfe0a07",
   "metadata": {},
   "outputs": [],
   "source": []
  }
 ],
 "metadata": {
  "kernelspec": {
   "display_name": "Python 3 (ipykernel)",
   "language": "python",
   "name": "python3"
  },
  "language_info": {
   "codemirror_mode": {
    "name": "ipython",
    "version": 3
   },
   "file_extension": ".py",
   "mimetype": "text/x-python",
   "name": "python",
   "nbconvert_exporter": "python",
   "pygments_lexer": "ipython3",
   "version": "3.12.2"
  }
 },
 "nbformat": 4,
 "nbformat_minor": 5
}
